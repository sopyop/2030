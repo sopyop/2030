{
  "cells": [
    {
      "cell_type": "markdown",
      "metadata": {
        "id": "qDwlCh1oLUY7"
      },
      "source": [
        "__Sophia Thompson__\n",
        "<br>\n",
        "Date: Jan. 27, 2023\n",
        "<br>\n",
        "PHYS 2030 W23\n",
        "\n",
        "__Rubric__ (100 points total):\n",
        "\n",
        "- Part (a) /__30 points__\n",
        "     \n",
        "- Part (b) /__20 points__\n",
        "\n",
        "- Part (c) /__50 points__\n"
      ]
    },
    {
      "cell_type": "markdown",
      "metadata": {
        "id": "xkbW2qLbLUY-"
      },
      "source": [
        "# <center><font color=#46769B>Exercise 8: Cosmic ray muons</font></center>\n",
        "\n",
        "## <font color=#46769B>Introduction:</font>\n",
        "\n",
        "The __muon__ (labeled $\\mu$) is an elementary particle that is similar to the electron, except it is about 200 times heavier and is unstable to radioactive decay. The lifetime of the muon is $\\tau = 2.2\\times 10^{-6}$ seconds, which means that a typical muon survives only a small fraction of a second after being produced, ultimately decaying into an electron and neutrinos. (For the curious reader, more information about muons can be found [here](https://en.wikipedia.org/wiki/Muon).)\n",
        "\n",
        "One natural source of muons is high-energy cosmic rays. The cosmic rays are fast-moving protons and heavier elements. When they smash into the Earth's atmosphere, the collisions produce showers of particles, including muons.\n",
        "\n",
        "Despite their short lifetimes, many cosmic ray muons reach the surface of the Earth. In fact, many high-energy muons are able to penetrate a good distance into the Earth, which is the reason why some experiments need to be done at laboratories [deep underground](https://en.wikipedia.org/wiki/SNOLAB). On the other hand, cosmic ray muons can also be very useful, allowing us to see places that are inaccessible.\n",
        "Measuring how cosmic ray muons are absorbed (similar to taking an x-ray) allowed researchers to discover new hidden spaces in the Great Pyramid of Giza, a technique known as [muon tomography](https://www.livescience.com/56510-photos-inside-great-pyramid-giza.html).\n",
        "\n",
        "In this Exercise, you will perform a Monte Carlo simulation for cosmic ray muons. You will sample over four different variables for each muon, each with their own PDFs:\n",
        "- *Decay time* $t$, sampled from an exponential PDF $P_t(t)$, as in Exercise 6.\n",
        "- *Angle* $\\theta$ that the muon is travelling with respect to the surface of the Earth, with PDF $P_\\theta(\\theta)$, as in Exercise 7.\n",
        "- *Energy* $E$ of the muon, with PDF $P_E(E)$.\n",
        "- *Height* $h$ above the Earth's surface where the muon is created, with PDF $P_h(h)$.\n",
        "\n",
        "Using your samples, you will calculate the fraction of muons that reach the Earth's surface, as well as the distributions of $\\theta$ and $E$ of those muons that reach the surface.\n",
        "\n",
        "Our goals for this notebook are:\n",
        "- Perform a multivariate Monte Carlo simulation, tying together all the knowledge gained so far in the course\n",
        "- Gain further experience in the inverse CDF method\n",
        "\n",
        "Required reading:\n",
        "- *Lesson 3: Sampling from arbitrary distributions*"
      ]
    },
    {
      "cell_type": "markdown",
      "metadata": {
        "id": "0rMM6F27LUY_"
      },
      "source": [
        "## <font color=#46769B>Exercise</font>\n",
        "\n",
        "### <font color=#46769B>Part (a): Decay length</font>\n",
        "\n",
        "The muon decay time $t$ is how long it takes for a given muon to decay. We sample $t$ from an exponential distribution\n",
        "\n",
        "$$ P_t(t) = \\left\\{ \\begin{array}{cc} \\frac{1}{\\tau} e^{-t/\\tau} & {\\rm for} \\; t \\ge 0 \\\\\n",
        "0 & {\\rm otherwise} \\end{array} \\right. $$\n",
        "\n",
        "where $\\tau = 2.2 \\times 10^{-6}$ s is the muon lifetime. \n",
        "\n",
        "Cosmic ray muons are travelling close to the speed of light $c$, so we have to account for *time dilation*, as per Einstein's theory of Special Relativity. The decay time $t$ is the muon's decay time *at rest*, i.e., in the rest frame of the muon. To an observer at rest on the Earth, the muon's decay time will be $\\gamma t$, where $\\gamma$ is the [Lorentz factor](https://en.wikipedia.org/wiki/Lorentz_factor). Therefore, the distance travelled by the muon before decaying is $d = v\\gamma t$, where $v$ is the muon's velocity.\n",
        "\n",
        "Next, we sample the muon energy $E$ from a power-law distribution\n",
        "\n",
        "$$P(E) = \n",
        "\\left\\{ \\begin{array}{cc} E_m E^{-2} & {\\rm for} \\; E \\ge E_m \\\\\n",
        "0 & {\\rm otherwise} \\end{array} \\right. \\, .$$\n",
        "\n",
        "Here, the muon energy $E$ is the total energy of the muon (kinetic energy + rest mass energy) and $E_m = m c^2$ is the (constant) rest mass energy of the muon.\n",
        "\n",
        "Next, we use formulas from Special Relativity to evaluate the decay distance $d$ in terms of $E$ and $t$:\n",
        "- The Lorentz factor is $\\gamma = \\frac{E}{E_m}$.\n",
        "- The muon velocity is $v = c \\sqrt{E^2 - E_m^2}/{E}$.\n",
        "\n",
        "Combining everything, we have the distance travelled by the muon before it decays, in terms of $t$ and $E$\n",
        "\n",
        "$$ d = c t \\frac{\\sqrt{E^2 - E_m^2}}{E_m} \\, . \\qquad {\\rm (1)}$$\n",
        "\n",
        "Use the following numerical constants:\n",
        "- Muon rest mass energy: $E_m = mc^2 = 0.106 \\; {\\rm GeV}$. (It is customary to measure the rest mass energy in units of GeV (giga-electron volts), instead of SI units (Joules).)\n",
        "- Speed of light: $c = 3 \\times 10^5 \\;  {\\rm km/s}$.\n",
        "\n",
        "Your tasks are as follows. Taking $N=10^6$:\n",
        "- Generate $N$ samples for $t$ from $P_t(t)$ using the inverse CDF method.\n",
        "- Generate $N$ samples $E$ from $P_E(E)$ using the inverse CDF method.\n",
        "- Calculate $N$ samples for $d$ according to Eq. (1), in units of ${\\rm km}$.\n",
        "- Plot a histogram of your samples for $d$. Make your plot a log-log plot, and include a label to indicate your samples are for $d$.\n"
      ]
    },
    {
      "cell_type": "code",
      "execution_count": 36,
      "metadata": {
        "colab": {
          "base_uri": "https://localhost:8080/",
          "height": 269
        },
        "id": "EM1ky1G0LUZB",
        "outputId": "e898dd2a-b1a1-42d9-dab3-e32fa7db954a"
      },
      "outputs": [
        {
          "output_type": "display_data",
          "data": {
            "text/plain": [
              "<Figure size 432x288 with 1 Axes>"
            ],
            "image/png": "[encoded data removed]"
          },
          "metadata": {
            "needs_background": "light"
          }
        }
      ],
      "source": [
        "import numpy as np\n",
        "import matplotlib.pyplot as plt\n",
        "\n",
        "Em = 0.106\n",
        "c = 3e5\n",
        "num = 10**6\n",
        "\n",
        "a = 1/2.2e-6\n",
        "r = np.random.rand(num)\n",
        "t_s = -1/a * np.log(1-r)\n",
        "\n",
        "#CDF is -Em/E = r\n",
        "#inverse CDF is the same\n",
        "q = np.random.rand(num)\n",
        "E_s = Em/q\n",
        "\n",
        "d = c*t_s*np.sqrt(E_s**2 - Em**2)/Em\n",
        "\n",
        "plt.hist(d, bins = 100, density = True, label = \"distance\")\n",
        "plt.xscale('log')\n",
        "plt.yscale('log')\n",
        "plt.show()"
      ]
    },
    {
      "cell_type": "markdown",
      "metadata": {
        "id": "pOm6ctj3LUZC"
      },
      "source": [
        "## <font color=#46769B>Part (b): Distance to Earth</font>\n",
        "\n",
        "Suppose a muon is created in a cosmic ray collision with angle $\\theta$ and at height $h$ above the surface. How far does the muon need to travel before reaching the Earth?\n",
        "- We will assume the muon has the same direction $\\theta$ as the cosmic ray. \n",
        "- We will treat the Earth as approximately flat.\n",
        "\n",
        "<div>\n",
        "<img src=\"https://github.com/PHYS-2030-Computational-Methods/Lecture-notes/raw/main/figures/cosmic_rays.png\" width=\"500\">\n",
        "</div>\n",
        "\n",
        "Combining these assumptions, the distance from the collision to the surface of the Earth is\n",
        "\n",
        "$$L = \\frac{h}{\\cos\\theta} \\, . \\qquad (2)$$\n",
        "\n",
        "We take a PDF for $\\theta$ as in Exercise 7:\n",
        "\n",
        "$$P_\\theta(\\theta) = \\left\\{ \\begin{array}{cc} \\sin 2\\theta & {\\rm for} \\; 0 \\le \\theta \\le \\frac{\\pi}{2} \\\\ \n",
        "0 & {\\rm otherwise} \\end{array} \\right.  $$\n",
        "\n",
        "We take a normal PDF for $h$: $P_h = \\mathcal{N}(15 \\; {\\rm km},2\\; {\\rm km})$, i.e., a normal distribution of mean $\\mu=15\\; {\\rm km}$ and width $\\sigma=2 \\; {\\rm km}$. \n",
        "\n",
        "Your tasks are as follows, taking $N=10^6$:\n",
        "- Generate $N$ samples for $\\theta$ from $P_\\theta$.\n",
        "- Generate $N$ samples for $h$ from $P_h$.\n",
        "- Obtain samples for $L$ (in $\\rm{km}$).\n",
        "- Plot a histogram of your samples for $L$. Make your plot a log-log plot, and include a label to indicate your samples are for $L$. On the same plot, include your histogram for $d$ that you made in Part (a).\n"
      ]
    },
    {
      "cell_type": "code",
      "execution_count": 37,
      "metadata": {
        "colab": {
          "base_uri": "https://localhost:8080/",
          "height": 269
        },
        "id": "0xeREu_dLUZD",
        "outputId": "ff2c2632-738f-4496-a295-5c4418eff06b"
      },
      "outputs": [
        {
          "output_type": "display_data",
          "data": {
            "text/plain": [
              "<Figure size 432x288 with 1 Axes>"
            ],
            "image/png": "[encoded data removed]"
          },
          "metadata": {
            "needs_background": "light"
          }
        }
      ],
      "source": [
        "#as with Ex 7, the integral of sin(2theta) is -1/2 cos(2theta)\n",
        "#the inverse of that then has theta = arccos(-2r)/2\n",
        "\n",
        "r2 = np.random.uniform(-0.5, 0.5, num)\n",
        "th_s = np.arccos(-2*r2)/2\n",
        "\n",
        "mu = 15\n",
        "sigma = 2\n",
        "x = np.random.normal(mu, sigma, num)\n",
        "h_s = 1/np.sqrt(2*np.pi*sigma**2) * np.exp(-0.5*(x-mu)**2/sigma**2)\n",
        "\n",
        "L = h_s/np.cos(th_s)\n",
        "\n",
        "plt.hist(L, bins = 100, density = True, label = \"L\", alpha=0.5)\n",
        "plt.hist(d, bins = 100, density = True, label = \"distance\", alpha=0.5)\n",
        "plt.xscale('log')\n",
        "plt.yscale('log')\n",
        "plt.show()"
      ]
    },
    {
      "cell_type": "markdown",
      "metadata": {
        "id": "sFAxNI2NLUZE"
      },
      "source": [
        "## <font color=#46769B>Part (c)</font>\n",
        "\n",
        "Consider an observer on the surface of the Earth, who will detect the energy $E$ and angle $\\theta$ of the muons. The goal here is to determine the distribution of $E$ and $\\theta$ measured by the observer. Naturally, they are limited only to those muons that reach the surface.\n",
        "\n",
        "In Parts (b) and (c), each sample represents a muon, where $d_i$ is the distance travelled before decaying and $L_i$ is the distance to the Earth's surface. The muon reaches the surface when $d_i > L_i$ and the muon decays before reaching the surface when $d_i < L_i$. \n",
        "\n",
        "Using your samples in Parts (a) and (b), your tasks are as follows:\n",
        "- Compute and print the fraction of muons reaching the surface of the Earth\n",
        "- Print the means and standard deviations of both $E$ and $\\theta$ *for only muons that reach the surface*, and compare to the same means and standard deviations for *all samples*.\n",
        "- Plot the histogram for $E$ *for only muons that reach the surface*. On the sample plot, show the histogram for $E$ for *all samples*, as well as the original PDF for $E$. Be sure that you include labels, your histograms are normalized (`density=True`) and have `alpha=0.5`, and use log-log for your axes.\n",
        "- Plot the histogram for $\\theta$ *for only muons that reach the surface*. On the sample plot, show the histogram for $\\theta$ for *all samples*, as well as the original PDF for $\\theta$. Be sure that you include labels, your histograms are normalized (`density=True`) and have `alpha=0.5`, and use linear-linear for your axes.\n"
      ]
    },
    {
      "cell_type": "code",
      "execution_count": 44,
      "metadata": {
        "colab": {
          "base_uri": "https://localhost:8080/",
          "height": 569
        },
        "id": "yMv6qOgaLUZF",
        "outputId": "0c1afb9c-f2a9-4ee4-eedd-3421a7931784"
      },
      "outputs": [
        {
          "output_type": "stream",
          "name": "stdout",
          "text": [
            "the fraction of muons reaching Earth is 76.19510000000001%.\n",
            "the mean of the muons that reach the surface is 1.78610992780849 compared to 1.4077432645139594 for all samples.\n",
            "the standard deviation of the muons that reach the surface is 93.0878484509666 compared to 81.25915638343666 for all samples.\n"
          ]
        },
        {
          "output_type": "display_data",
          "data": {
            "text/plain": [
              "<Figure size 432x288 with 1 Axes>"
            ],
            "image/png": "[encoded data removed]"
          },
          "metadata": {
            "needs_background": "light"
          }
        },
        {
          "output_type": "display_data",
          "data": {
            "text/plain": [
              "<Figure size 432x288 with 1 Axes>"
            ],
            "image/png": "[encoded data removed]"
          },
          "metadata": {
            "needs_background": "light"
          }
        }
      ],
      "source": [
        "E_mean = np.mean(E_s)\n",
        "E_st = np.std(E_s)\n",
        "th_mean = np.std(th_s)\n",
        "th_st = np.std(th_s)\n",
        "\n",
        "fr = 0\n",
        "Er = []\n",
        "Th = []\n",
        "\n",
        "for i in range(num):\n",
        "  if d[i] >= L[i]:\n",
        "    fr+=1\n",
        "    Er.append(E_s[i])\n",
        "    Th.append(th_s[i])\n",
        "\n",
        "fraction = fr/num*100\n",
        "Er_mean = np.mean(Er)\n",
        "Er_st = np.std(Er)\n",
        "Th_mean = np.mean(Th)\n",
        "Th_st = np.std(Th)\n",
        "\n",
        "print(f\"the fraction of muons reaching Earth is {fraction}%.\")\n",
        "print(f\"the mean of the muons that reach the surface is {Er_mean} compared to {E_mean} for all samples.\")\n",
        "print(f\"the standard deviation of the muons that reach the surface is {Er_st} compared to {E_st} for all samples.\")\n",
        "\n",
        "plt.hist(Er, bins=100, density=True, label='surface only', alpha=0.5)\n",
        "plt.hist(E_s, bins=100, density=True, label='all E', alpha=0.5)\n",
        "plt.xscale('log')\n",
        "plt.yscale('log')\n",
        "plt.legend()\n",
        "plt.show()\n",
        "\n",
        "plt.hist(Th, bins = 100, density=True, label = 'surface only', alpha=0.5)\n",
        "plt.hist(th_s, bins = 100, density=True, label = 'all theta', alpha=0.5)\n",
        "plt.legend()\n",
        "plt.show()"
      ]
    },
    {
      "cell_type": "code",
      "source": [],
      "metadata": {
        "id": "3er4B2S_bafY"
      },
      "execution_count": null,
      "outputs": []
    }
  ],
  "metadata": {
    "kernelspec": {
      "display_name": "Python 3",
      "language": "python",
      "name": "python3"
    },
    "language_info": {
      "codemirror_mode": {
        "name": "ipython",
        "version": 3
      },
      "file_extension": ".py",
      "mimetype": "text/x-python",
      "name": "python",
      "nbconvert_exporter": "python",
      "pygments_lexer": "ipython3",
      "version": "3.7.6"
    },
    "colab": {
      "provenance": []
    }
  },
  "nbformat": 4,
  "nbformat_minor": 0
}